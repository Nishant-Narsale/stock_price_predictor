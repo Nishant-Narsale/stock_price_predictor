{
 "cells": [
  {
   "cell_type": "code",
   "execution_count": 27,
   "id": "62951d20",
   "metadata": {},
   "outputs": [],
   "source": [
    "import numpy as np\n",
    "import pandas as pd\n",
    "import matplotlib.pyplot as plt\n",
    "from tensorflow.keras.models import Sequential\n",
    "from tensorflow.keras.layers import LSTM, Dropout, Dense\n",
    "import datetime"
   ]
  },
  {
   "cell_type": "code",
   "execution_count": 28,
   "id": "c89dbe2d",
   "metadata": {},
   "outputs": [
    {
     "name": "stdout",
     "output_type": "stream",
     "text": [
      "Requirement already satisfied: pandas-datareader in c:\\users\\acer\\anaconda3\\lib\\site-packages (0.10.0)\n",
      "Requirement already satisfied: pandas>=0.23 in c:\\users\\acer\\anaconda3\\lib\\site-packages (from pandas-datareader) (1.2.4)\n",
      "Requirement already satisfied: requests>=2.19.0 in c:\\users\\acer\\anaconda3\\lib\\site-packages (from pandas-datareader) (2.25.1)\n",
      "Requirement already satisfied: lxml in c:\\users\\acer\\anaconda3\\lib\\site-packages (from pandas-datareader) (4.6.3)\n",
      "Requirement already satisfied: numpy>=1.16.5 in c:\\users\\acer\\anaconda3\\lib\\site-packages (from pandas>=0.23->pandas-datareader) (1.20.1)\n",
      "Requirement already satisfied: pytz>=2017.3 in c:\\users\\acer\\anaconda3\\lib\\site-packages (from pandas>=0.23->pandas-datareader) (2021.1)\n",
      "Requirement already satisfied: python-dateutil>=2.7.3 in c:\\users\\acer\\anaconda3\\lib\\site-packages (from pandas>=0.23->pandas-datareader) (2.8.1)\n",
      "Requirement already satisfied: six>=1.5 in c:\\users\\acer\\anaconda3\\lib\\site-packages (from python-dateutil>=2.7.3->pandas>=0.23->pandas-datareader) (1.16.0)\n",
      "Requirement already satisfied: urllib3<1.27,>=1.21.1 in c:\\users\\acer\\anaconda3\\lib\\site-packages (from requests>=2.19.0->pandas-datareader) (1.26.7)\n",
      "Requirement already satisfied: idna<3,>=2.5 in c:\\users\\acer\\anaconda3\\lib\\site-packages (from requests>=2.19.0->pandas-datareader) (2.10)\n",
      "Requirement already satisfied: certifi>=2017.4.17 in c:\\users\\acer\\anaconda3\\lib\\site-packages (from requests>=2.19.0->pandas-datareader) (2021.5.30)\n",
      "Requirement already satisfied: chardet<5,>=3.0.2 in c:\\users\\acer\\anaconda3\\lib\\site-packages (from requests>=2.19.0->pandas-datareader) (4.0.0)\n"
     ]
    }
   ],
   "source": [
    "# !pip install pandas-datareader\n",
    "import pandas_datareader as web"
   ]
  },
  {
   "cell_type": "code",
   "execution_count": 29,
   "id": "484ba28d",
   "metadata": {},
   "outputs": [],
   "source": [
    "from sklearn.preprocessing import MinMaxScaler"
   ]
  },
  {
   "cell_type": "code",
   "execution_count": 30,
   "id": "7692ec83",
   "metadata": {},
   "outputs": [],
   "source": [
    "company = \"FB\" #ticker symbol for a company (e.g. FB for Facebook)\n",
    "start = datetime.datetime(2012, 1, 1) #starting date for dataset\n",
    "end = datetime.datetime(2022, 1, 1) #ending date for dataset"
   ]
  },
  {
   "cell_type": "code",
   "execution_count": 31,
   "id": "0820ae4e",
   "metadata": {},
   "outputs": [],
   "source": [
    "df = web.DataReader(company, 'yahoo', start, end) #fetching data from yahoo finance api"
   ]
  },
  {
   "cell_type": "code",
   "execution_count": 32,
   "id": "f44ee348",
   "metadata": {},
   "outputs": [
    {
     "data": {
      "text/html": [
       "<div>\n",
       "<style scoped>\n",
       "    .dataframe tbody tr th:only-of-type {\n",
       "        vertical-align: middle;\n",
       "    }\n",
       "\n",
       "    .dataframe tbody tr th {\n",
       "        vertical-align: top;\n",
       "    }\n",
       "\n",
       "    .dataframe thead th {\n",
       "        text-align: right;\n",
       "    }\n",
       "</style>\n",
       "<table border=\"1\" class=\"dataframe\">\n",
       "  <thead>\n",
       "    <tr style=\"text-align: right;\">\n",
       "      <th></th>\n",
       "      <th>High</th>\n",
       "      <th>Low</th>\n",
       "      <th>Open</th>\n",
       "      <th>Close</th>\n",
       "      <th>Volume</th>\n",
       "      <th>Adj Close</th>\n",
       "    </tr>\n",
       "    <tr>\n",
       "      <th>Date</th>\n",
       "      <th></th>\n",
       "      <th></th>\n",
       "      <th></th>\n",
       "      <th></th>\n",
       "      <th></th>\n",
       "      <th></th>\n",
       "    </tr>\n",
       "  </thead>\n",
       "  <tbody>\n",
       "    <tr>\n",
       "      <th>2012-05-18</th>\n",
       "      <td>45.000000</td>\n",
       "      <td>38.000000</td>\n",
       "      <td>42.049999</td>\n",
       "      <td>38.230000</td>\n",
       "      <td>573576400</td>\n",
       "      <td>38.230000</td>\n",
       "    </tr>\n",
       "    <tr>\n",
       "      <th>2012-05-21</th>\n",
       "      <td>36.660000</td>\n",
       "      <td>33.000000</td>\n",
       "      <td>36.529999</td>\n",
       "      <td>34.029999</td>\n",
       "      <td>168192700</td>\n",
       "      <td>34.029999</td>\n",
       "    </tr>\n",
       "    <tr>\n",
       "      <th>2012-05-22</th>\n",
       "      <td>33.590000</td>\n",
       "      <td>30.940001</td>\n",
       "      <td>32.610001</td>\n",
       "      <td>31.000000</td>\n",
       "      <td>101786600</td>\n",
       "      <td>31.000000</td>\n",
       "    </tr>\n",
       "    <tr>\n",
       "      <th>2012-05-23</th>\n",
       "      <td>32.500000</td>\n",
       "      <td>31.360001</td>\n",
       "      <td>31.370001</td>\n",
       "      <td>32.000000</td>\n",
       "      <td>73600000</td>\n",
       "      <td>32.000000</td>\n",
       "    </tr>\n",
       "    <tr>\n",
       "      <th>2012-05-24</th>\n",
       "      <td>33.209999</td>\n",
       "      <td>31.770000</td>\n",
       "      <td>32.950001</td>\n",
       "      <td>33.029999</td>\n",
       "      <td>50237200</td>\n",
       "      <td>33.029999</td>\n",
       "    </tr>\n",
       "    <tr>\n",
       "      <th>...</th>\n",
       "      <td>...</td>\n",
       "      <td>...</td>\n",
       "      <td>...</td>\n",
       "      <td>...</td>\n",
       "      <td>...</td>\n",
       "      <td>...</td>\n",
       "    </tr>\n",
       "    <tr>\n",
       "      <th>2021-12-27</th>\n",
       "      <td>347.869995</td>\n",
       "      <td>338.010010</td>\n",
       "      <td>338.850006</td>\n",
       "      <td>346.179993</td>\n",
       "      <td>17795000</td>\n",
       "      <td>346.179993</td>\n",
       "    </tr>\n",
       "    <tr>\n",
       "      <th>2021-12-28</th>\n",
       "      <td>352.709991</td>\n",
       "      <td>345.200012</td>\n",
       "      <td>346.630005</td>\n",
       "      <td>346.220001</td>\n",
       "      <td>16637600</td>\n",
       "      <td>346.220001</td>\n",
       "    </tr>\n",
       "    <tr>\n",
       "      <th>2021-12-29</th>\n",
       "      <td>349.690002</td>\n",
       "      <td>341.640015</td>\n",
       "      <td>346.910004</td>\n",
       "      <td>342.940002</td>\n",
       "      <td>10747000</td>\n",
       "      <td>342.940002</td>\n",
       "    </tr>\n",
       "    <tr>\n",
       "      <th>2021-12-30</th>\n",
       "      <td>347.230011</td>\n",
       "      <td>343.220001</td>\n",
       "      <td>344.000000</td>\n",
       "      <td>344.359985</td>\n",
       "      <td>10593300</td>\n",
       "      <td>344.359985</td>\n",
       "    </tr>\n",
       "    <tr>\n",
       "      <th>2021-12-31</th>\n",
       "      <td>343.440002</td>\n",
       "      <td>336.269989</td>\n",
       "      <td>343.019989</td>\n",
       "      <td>336.350006</td>\n",
       "      <td>12870500</td>\n",
       "      <td>336.350006</td>\n",
       "    </tr>\n",
       "  </tbody>\n",
       "</table>\n",
       "<p>2422 rows × 6 columns</p>\n",
       "</div>"
      ],
      "text/plain": [
       "                  High         Low        Open       Close     Volume  \\\n",
       "Date                                                                    \n",
       "2012-05-18   45.000000   38.000000   42.049999   38.230000  573576400   \n",
       "2012-05-21   36.660000   33.000000   36.529999   34.029999  168192700   \n",
       "2012-05-22   33.590000   30.940001   32.610001   31.000000  101786600   \n",
       "2012-05-23   32.500000   31.360001   31.370001   32.000000   73600000   \n",
       "2012-05-24   33.209999   31.770000   32.950001   33.029999   50237200   \n",
       "...                ...         ...         ...         ...        ...   \n",
       "2021-12-27  347.869995  338.010010  338.850006  346.179993   17795000   \n",
       "2021-12-28  352.709991  345.200012  346.630005  346.220001   16637600   \n",
       "2021-12-29  349.690002  341.640015  346.910004  342.940002   10747000   \n",
       "2021-12-30  347.230011  343.220001  344.000000  344.359985   10593300   \n",
       "2021-12-31  343.440002  336.269989  343.019989  336.350006   12870500   \n",
       "\n",
       "             Adj Close  \n",
       "Date                    \n",
       "2012-05-18   38.230000  \n",
       "2012-05-21   34.029999  \n",
       "2012-05-22   31.000000  \n",
       "2012-05-23   32.000000  \n",
       "2012-05-24   33.029999  \n",
       "...                ...  \n",
       "2021-12-27  346.179993  \n",
       "2021-12-28  346.220001  \n",
       "2021-12-29  342.940002  \n",
       "2021-12-30  344.359985  \n",
       "2021-12-31  336.350006  \n",
       "\n",
       "[2422 rows x 6 columns]"
      ]
     },
     "execution_count": 32,
     "metadata": {},
     "output_type": "execute_result"
    }
   ],
   "source": [
    "df"
   ]
  },
  {
   "cell_type": "code",
   "execution_count": 33,
   "id": "1ddb5142",
   "metadata": {},
   "outputs": [
    {
     "data": {
      "text/plain": [
       "[<matplotlib.lines.Line2D at 0x1466a6b2340>]"
      ]
     },
     "execution_count": 33,
     "metadata": {},
     "output_type": "execute_result"
    },
    {
     "data": {
      "image/png": "[encoded data removed]",
      "text/plain": [
       "<Figure size 432x288 with 1 Axes>"
      ]
     },
     "metadata": {
      "needs_background": "light"
     },
     "output_type": "display_data"
    }
   ],
   "source": [
    "plt.plot(df.index, df[\"Close\"]) #we are only interested in closing price"
   ]
  },
  {
   "cell_type": "markdown",
   "id": "479102e3",
   "metadata": {},
   "source": [
    "# Preprocessing Data for Sequential model"
   ]
  },
  {
   "cell_type": "code",
   "execution_count": 34,
   "id": "d4bdc3fa",
   "metadata": {},
   "outputs": [
    {
     "data": {
      "text/plain": [
       "array([[0.05624914],\n",
       "       [0.04472493],\n",
       "       [0.03641103],\n",
       "       ...,\n",
       "       [0.89233093],\n",
       "       [0.89622717],\n",
       "       [0.8742489 ]])"
      ]
     },
     "execution_count": 34,
     "metadata": {},
     "output_type": "execute_result"
    }
   ],
   "source": [
    "#Scaling all data in 0 to 1\n",
    "scaler = MinMaxScaler(feature_range=(0,1))\n",
    "scaled_data = scaler.fit_transform(df[\"Close\"].values.reshape(-1,1)) #reshape is necessary because fit_transform only accept 2d array\n",
    "scaled_data"
   ]
  },
  {
   "cell_type": "code",
   "execution_count": 35,
   "id": "7bbeb8b0",
   "metadata": {},
   "outputs": [
    {
     "data": {
      "text/plain": [
       "array([ 38.22999954,  34.02999878,  31.        , ..., 342.94000244,\n",
       "       344.35998535, 336.3500061 ])"
      ]
     },
     "execution_count": 35,
     "metadata": {},
     "output_type": "execute_result"
    }
   ],
   "source": [
    "df[\"Close\"].values"
   ]
  },
  {
   "cell_type": "code",
   "execution_count": 36,
   "id": "a1c67da8",
   "metadata": {},
   "outputs": [
    {
     "data": {
      "text/plain": [
       "array([[ 38.22999954],\n",
       "       [ 34.02999878],\n",
       "       [ 31.        ],\n",
       "       ...,\n",
       "       [342.94000244],\n",
       "       [344.35998535],\n",
       "       [336.3500061 ]])"
      ]
     },
     "execution_count": 36,
     "metadata": {},
     "output_type": "execute_result"
    }
   ],
   "source": [
    "df[\"Close\"].values.reshape(-1,1)"
   ]
  },
  {
   "cell_type": "code",
   "execution_count": 37,
   "id": "587eca3b",
   "metadata": {},
   "outputs": [],
   "source": [
    "pred_days = 60 #number of days you want to predict, to measure accuracy of model"
   ]
  },
  {
   "cell_type": "code",
   "execution_count": 38,
   "id": "0a6a6abc",
   "metadata": {},
   "outputs": [],
   "source": [
    "X_train, y_train = [], []"
   ]
  },
  {
   "cell_type": "code",
   "execution_count": 39,
   "id": "74a42b93",
   "metadata": {},
   "outputs": [],
   "source": [
    "#As we are gonna use LSTM and sequential modelling for prediction,\n",
    "#we will provide first 60 closing price in first input of X_train\n",
    "#and this first input(i.e, first array of 60 days closing price) will have 61th day's closing price as it's corresponding output \n",
    "#then next input will be 2nd day closing price to 61th day closing price and it's corresponding output will be 62th day's closing price\n",
    "\n",
    "for x in range(pred_days, len(scaled_data)):\n",
    "    X_train.append(scaled_data[x-pred_days:x,0])\n",
    "    y_train.append(scaled_data[x,0])\n",
    "X_train = np.array(X_train)\n",
    "y_train = np.array(y_train)"
   ]
  },
  {
   "cell_type": "code",
   "execution_count": 40,
   "id": "3a3fedbe",
   "metadata": {},
   "outputs": [
    {
     "name": "stdout",
     "output_type": "stream",
     "text": [
      "(2362, 60)\n"
     ]
    },
    {
     "data": {
      "text/plain": [
       "array([[0.05624914, 0.04472493, 0.03641103, ..., 0.00899986, 0.01119495,\n",
       "        0.01061874],\n",
       "       [0.04472493, 0.03641103, 0.03915489, ..., 0.01119495, 0.01061874,\n",
       "        0.00727123],\n",
       "       [0.03641103, 0.03915489, 0.04198107, ..., 0.01061874, 0.00727123,\n",
       "        0.0095212 ],\n",
       "       ...,\n",
       "       [0.84648105, 0.86494717, 0.86681306, ..., 0.87120317, 0.90122102,\n",
       "        0.90133079],\n",
       "       [0.86494717, 0.86681306, 0.85468516, ..., 0.90122102, 0.90133079,\n",
       "        0.89233093],\n",
       "       [0.86681306, 0.85468516, 0.85696253, ..., 0.90133079, 0.89233093,\n",
       "        0.89622717]])"
      ]
     },
     "execution_count": 40,
     "metadata": {},
     "output_type": "execute_result"
    }
   ],
   "source": [
    "print(X_train.shape)\n",
    "X_train"
   ]
  },
  {
   "cell_type": "code",
   "execution_count": 41,
   "id": "522bdb23",
   "metadata": {},
   "outputs": [
    {
     "name": "stdout",
     "output_type": "stream",
     "text": [
      "(2362,)\n"
     ]
    },
    {
     "data": {
      "text/plain": [
       "array([0.00727123, 0.0095212 , 0.00587187, ..., 0.89233093, 0.89622717,\n",
       "       0.8742489 ])"
      ]
     },
     "execution_count": 41,
     "metadata": {},
     "output_type": "execute_result"
    }
   ],
   "source": [
    "print(y_train.shape) #notice first output of y_train and last input of 2nd array in X_train\n",
    "y_train"
   ]
  },
  {
   "cell_type": "code",
   "execution_count": 42,
   "id": "f891760d",
   "metadata": {},
   "outputs": [
    {
     "data": {
      "text/plain": [
       "(2362, 60)"
      ]
     },
     "execution_count": 42,
     "metadata": {},
     "output_type": "execute_result"
    }
   ],
   "source": [
    "X_train.shape"
   ]
  },
  {
   "cell_type": "code",
   "execution_count": 43,
   "id": "38b47e2e",
   "metadata": {},
   "outputs": [
    {
     "name": "stdout",
     "output_type": "stream",
     "text": [
      "(2362, 60, 1)\n"
     ]
    },
    {
     "data": {
      "text/plain": [
       "array([[[0.05624914],\n",
       "        [0.04472493],\n",
       "        [0.03641103],\n",
       "        ...,\n",
       "        [0.00899986],\n",
       "        [0.01119495],\n",
       "        [0.01061874]],\n",
       "\n",
       "       [[0.04472493],\n",
       "        [0.03641103],\n",
       "        [0.03915489],\n",
       "        ...,\n",
       "        [0.01119495],\n",
       "        [0.01061874],\n",
       "        [0.00727123]],\n",
       "\n",
       "       [[0.03641103],\n",
       "        [0.03915489],\n",
       "        [0.04198107],\n",
       "        ...,\n",
       "        [0.01061874],\n",
       "        [0.00727123],\n",
       "        [0.0095212 ]],\n",
       "\n",
       "       ...,\n",
       "\n",
       "       [[0.84648105],\n",
       "        [0.86494717],\n",
       "        [0.86681306],\n",
       "        ...,\n",
       "        [0.87120317],\n",
       "        [0.90122102],\n",
       "        [0.90133079]],\n",
       "\n",
       "       [[0.86494717],\n",
       "        [0.86681306],\n",
       "        [0.85468516],\n",
       "        ...,\n",
       "        [0.90122102],\n",
       "        [0.90133079],\n",
       "        [0.89233093]],\n",
       "\n",
       "       [[0.86681306],\n",
       "        [0.85468516],\n",
       "        [0.85696253],\n",
       "        ...,\n",
       "        [0.90133079],\n",
       "        [0.89233093],\n",
       "        [0.89622717]]])"
      ]
     },
     "execution_count": 43,
     "metadata": {},
     "output_type": "execute_result"
    }
   ],
   "source": [
    "X_train = np.reshape(X_train, (X_train.shape[0], X_train.shape[1], 1))\n",
    "print(X_train.shape) #adding one more dimension to X_train\n",
    "X_train"
   ]
  },
  {
   "cell_type": "markdown",
   "id": "4d10434b",
   "metadata": {},
   "source": [
    "# Building Neural Network model"
   ]
  },
  {
   "cell_type": "code",
   "execution_count": 44,
   "id": "ab1b4360",
   "metadata": {},
   "outputs": [],
   "source": [
    "model = Sequential()\n",
    "\n",
    "model.add(LSTM(units=50, return_sequences=True, input_shape=(X_train.shape[1],1)))\n",
    "model.add(Dropout(0.2))\n",
    "\n",
    "model.add(LSTM(units=50, return_sequences=True))\n",
    "model.add(Dropout(0.2))\n",
    "\n",
    "model.add(LSTM(units=50))\n",
    "model.add(Dropout(0.2))\n",
    "\n",
    "model.add(Dense(units=1)) #prediction of next day's closing price"
   ]
  },
  {
   "cell_type": "code",
   "execution_count": 45,
   "id": "e0887fc0",
   "metadata": {},
   "outputs": [
    {
     "name": "stdout",
     "output_type": "stream",
     "text": [
      "Model: \"sequential_1\"\n",
      "_________________________________________________________________\n",
      " Layer (type)                Output Shape              Param #   \n",
      "=================================================================\n",
      " lstm_3 (LSTM)               (None, 60, 50)            10400     \n",
      "                                                                 \n",
      " dropout_3 (Dropout)         (None, 60, 50)            0         \n",
      "                                                                 \n",
      " lstm_4 (LSTM)               (None, 60, 50)            20200     \n",
      "                                                                 \n",
      " dropout_4 (Dropout)         (None, 60, 50)            0         \n",
      "                                                                 \n",
      " lstm_5 (LSTM)               (None, 50)                20200     \n",
      "                                                                 \n",
      " dropout_5 (Dropout)         (None, 50)                0         \n",
      "                                                                 \n",
      " dense_1 (Dense)             (None, 1)                 51        \n",
      "                                                                 \n",
      "=================================================================\n",
      "Total params: 50,851\n",
      "Trainable params: 50,851\n",
      "Non-trainable params: 0\n",
      "_________________________________________________________________\n"
     ]
    }
   ],
   "source": [
    "model.summary()"
   ]
  },
  {
   "cell_type": "code",
   "execution_count": 46,
   "id": "c4b8ac2f",
   "metadata": {},
   "outputs": [],
   "source": [
    "model.compile(optimizer='adam', loss='mean_squared_error')"
   ]
  },
  {
   "cell_type": "code",
   "execution_count": 47,
   "id": "c2246d56",
   "metadata": {},
   "outputs": [
    {
     "name": "stdout",
     "output_type": "stream",
     "text": [
      "0\n"
     ]
    }
   ],
   "source": [
    "import tensorflow as tf\n",
    "print(len(tf.config.list_physical_devices('GPU')))"
   ]
  },
  {
   "cell_type": "code",
   "execution_count": 48,
   "id": "04d25fe1",
   "metadata": {
    "scrolled": true
   },
   "outputs": [
    {
     "name": "stdout",
     "output_type": "stream",
     "text": [
      "Epoch 1/25\n",
      "74/74 [==============================] - 22s 149ms/step - loss: 0.0170\n",
      "Epoch 2/25\n",
      "74/74 [==============================] - 11s 146ms/step - loss: 0.0027\n",
      "Epoch 3/25\n",
      "74/74 [==============================] - 11s 144ms/step - loss: 0.0023\n",
      "Epoch 4/25\n",
      "74/74 [==============================] - 10s 140ms/step - loss: 0.0024\n",
      "Epoch 5/25\n",
      "74/74 [==============================] - 10s 129ms/step - loss: 0.0020\n",
      "Epoch 6/25\n",
      "74/74 [==============================] - 9s 121ms/step - loss: 0.0024\n",
      "Epoch 7/25\n",
      "74/74 [==============================] - 10s 138ms/step - loss: 0.0020\n",
      "Epoch 8/25\n",
      "74/74 [==============================] - 10s 139ms/step - loss: 0.0020\n",
      "Epoch 9/25\n",
      "74/74 [==============================] - 11s 142ms/step - loss: 0.0018\n",
      "Epoch 10/25\n",
      "74/74 [==============================] - 10s 140ms/step - loss: 0.0016\n",
      "Epoch 11/25\n",
      "74/74 [==============================] - 8s 103ms/step - loss: 0.0017\n",
      "Epoch 12/25\n",
      "74/74 [==============================] - 8s 112ms/step - loss: 0.0016\n",
      "Epoch 13/25\n",
      "74/74 [==============================] - 11s 146ms/step - loss: 0.0018\n",
      "Epoch 14/25\n",
      "74/74 [==============================] - 11s 146ms/step - loss: 0.0016\n",
      "Epoch 15/25\n",
      "74/74 [==============================] - 11s 142ms/step - loss: 0.0014\n",
      "Epoch 16/25\n",
      "74/74 [==============================] - 11s 144ms/step - loss: 0.0015\n",
      "Epoch 17/25\n",
      "74/74 [==============================] - 11s 143ms/step - loss: 0.0014\n",
      "Epoch 18/25\n",
      "74/74 [==============================] - 11s 144ms/step - loss: 0.0013\n",
      "Epoch 19/25\n",
      "74/74 [==============================] - 11s 147ms/step - loss: 0.0013\n",
      "Epoch 20/25\n",
      "74/74 [==============================] - 11s 147ms/step - loss: 0.0014\n",
      "Epoch 21/25\n",
      "74/74 [==============================] - 11s 145ms/step - loss: 0.0012\n",
      "Epoch 22/25\n",
      "74/74 [==============================] - 11s 148ms/step - loss: 0.0013\n",
      "Epoch 23/25\n",
      "74/74 [==============================] - 11s 142ms/step - loss: 0.0012\n",
      "Epoch 24/25\n",
      "74/74 [==============================] - 11s 147ms/step - loss: 0.0011\n",
      "Epoch 25/25\n",
      "74/74 [==============================] - 11s 147ms/step - loss: 0.0013\n"
     ]
    },
    {
     "data": {
      "text/plain": [
       "<keras.callbacks.History at 0x1466a945a00>"
      ]
     },
     "execution_count": 48,
     "metadata": {},
     "output_type": "execute_result"
    }
   ],
   "source": [
    "model.fit(X_train, y_train, epochs=25, batch_size=32)"
   ]
  },
  {
   "cell_type": "code",
   "execution_count": 54,
   "id": "a9fac9fa",
   "metadata": {},
   "outputs": [],
   "source": [
    "model.save('fb_stock_price_predictor.h5', save_format=\"h5\")"
   ]
  },
  {
   "cell_type": "markdown",
   "id": "7f592df2",
   "metadata": {},
   "source": [
    "# Testing model accuracy on existing data but new for model"
   ]
  },
  {
   "cell_type": "code",
   "execution_count": 55,
   "id": "be2ea061",
   "metadata": {},
   "outputs": [
    {
     "data": {
      "text/plain": [
       "array([[0.85468516],\n",
       "       [0.85696253],\n",
       "       [0.84434084],\n",
       "       [0.83973109],\n",
       "       [0.84184391],\n",
       "       [0.85279189],\n",
       "       [0.84244757],\n",
       "       [0.87147758],\n",
       "       [0.88423651],\n",
       "       [0.88640419],\n",
       "       [0.88942245],\n",
       "       [0.84203592],\n",
       "       [0.85323092],\n",
       "       [0.81788998],\n",
       "       [0.80803953],\n",
       "       [0.82093571],\n",
       "       [0.83918237],\n",
       "       [0.85677052],\n",
       "       [0.85155712],\n",
       "       [0.86127041],\n",
       "       [0.87287697],\n",
       "       [0.88736455],\n",
       "       [0.88047744],\n",
       "       [0.87155989],\n",
       "       [0.8503499 ],\n",
       "       [0.85062422],\n",
       "       [0.88670605],\n",
       "       [0.90500756],\n",
       "       [0.89238578],\n",
       "       [0.88637672],\n",
       "       [0.88066953],\n",
       "       [0.89880641],\n",
       "       [0.8870353 ],\n",
       "       [0.87671836],\n",
       "       [0.88717246],\n",
       "       [0.8653862 ],\n",
       "       [0.87885857],\n",
       "       [0.84162436],\n",
       "       [0.80359449],\n",
       "       [0.8030183 ],\n",
       "       [0.79327755],\n",
       "       [0.82354233],\n",
       "       [0.83709701],\n",
       "       [0.85836193],\n",
       "       [0.8563315 ],\n",
       "       [0.85613941],\n",
       "       [0.86914528],\n",
       "       [0.86708738],\n",
       "       [0.8888188 ],\n",
       "       [0.87027027],\n",
       "       [0.86722463],\n",
       "       [0.84434084],\n",
       "       [0.86834962],\n",
       "       [0.85806014],\n",
       "       [0.87120317],\n",
       "       [0.90122102],\n",
       "       [0.90133079],\n",
       "       [0.89233093],\n",
       "       [0.89622717],\n",
       "       [0.8742489 ],\n",
       "       [0.8742489 ],\n",
       "       [0.88025796],\n",
       "       [0.87474278],\n",
       "       [0.8408287 ],\n",
       "       [0.86357524],\n",
       "       [0.8617369 ],\n",
       "       [0.85152974],\n",
       "       [0.86881603],\n",
       "       [0.86577038],\n",
       "       [0.84716701],\n",
       "       [0.86203869],\n",
       "       [0.82431061],\n",
       "       [0.82826177],\n",
       "       [0.81994788],\n",
       "       [0.78320763],\n",
       "       [0.79840855],\n",
       "       [0.77492111],\n",
       "       [0.75977503],\n",
       "       [0.7598025 ],\n",
       "       [0.77920153],\n",
       "       [0.81089317],\n",
       "       [0.8266429 ],\n",
       "       [0.83761835],\n",
       "       [0.60373165],\n",
       "       [0.60189327],\n",
       "       [0.56847306],\n",
       "       [0.55549457],\n",
       "       [0.58792703],\n",
       "       [0.57714367],\n",
       "       [0.55376597],\n",
       "       [0.54868981],\n",
       "       [0.55774456],\n",
       "       [0.54550692],\n",
       "       [0.52127867],\n",
       "       [0.51702568],\n",
       "       [0.50583072],\n",
       "       [0.49587049],\n",
       "       [0.52097684],\n",
       "       [0.52887913],\n",
       "       [0.53038826],\n",
       "       [0.50969957],\n",
       "       [0.5223762 ],\n",
       "       [0.50827275],\n",
       "       [0.50028811],\n",
       "       [0.46574291],\n",
       "       [0.47348058],\n",
       "       [0.49600769],\n",
       "       [0.48698041],\n",
       "       [0.46612705],\n",
       "       [0.46343808],\n",
       "       [0.47825491],\n",
       "       [0.51008371],\n",
       "       [0.52163534],\n",
       "       [0.54536976],\n",
       "       [0.54536976]])"
      ]
     },
     "execution_count": 55,
     "metadata": {},
     "output_type": "execute_result"
    }
   ],
   "source": [
    "#loading test data\n",
    "test_start = datetime.datetime(2022,1,1)\n",
    "test_end = datetime.datetime.now()\n",
    "\n",
    "test_data = web.DataReader(company, 'yahoo', test_start, test_end)\n",
    "actual_prices = test_data['Close'].values\n",
    "\n",
    "total_dataset = pd.concat((df['Close'], test_data['Close']), axis=0)\n",
    "model_inputs = total_dataset[len(total_dataset) - len(test_data) - pred_days:].values\n",
    "model_inputs = model_inputs.reshape(-1,1)\n",
    "model_inputs = scaler.transform(model_inputs)\n",
    "\n",
    "model_inputs"
   ]
  },
  {
   "cell_type": "code",
   "execution_count": 56,
   "id": "75adca3b",
   "metadata": {},
   "outputs": [
    {
     "data": {
      "text/plain": [
       "array([[[0.85468516],\n",
       "        [0.85696253],\n",
       "        [0.84434084],\n",
       "        ...,\n",
       "        [0.89233093],\n",
       "        [0.89622717],\n",
       "        [0.8742489 ]],\n",
       "\n",
       "       [[0.85696253],\n",
       "        [0.84434084],\n",
       "        [0.83973109],\n",
       "        ...,\n",
       "        [0.89622717],\n",
       "        [0.8742489 ],\n",
       "        [0.8742489 ]],\n",
       "\n",
       "       [[0.84434084],\n",
       "        [0.83973109],\n",
       "        [0.84184391],\n",
       "        ...,\n",
       "        [0.8742489 ],\n",
       "        [0.8742489 ],\n",
       "        [0.88025796]],\n",
       "\n",
       "       ...,\n",
       "\n",
       "       [[0.86834962],\n",
       "        [0.85806014],\n",
       "        [0.87120317],\n",
       "        ...,\n",
       "        [0.46343808],\n",
       "        [0.47825491],\n",
       "        [0.51008371]],\n",
       "\n",
       "       [[0.85806014],\n",
       "        [0.87120317],\n",
       "        [0.90122102],\n",
       "        ...,\n",
       "        [0.47825491],\n",
       "        [0.51008371],\n",
       "        [0.52163534]],\n",
       "\n",
       "       [[0.87120317],\n",
       "        [0.90122102],\n",
       "        [0.90133079],\n",
       "        ...,\n",
       "        [0.51008371],\n",
       "        [0.52163534],\n",
       "        [0.54536976]]])"
      ]
     },
     "execution_count": 56,
     "metadata": {},
     "output_type": "execute_result"
    }
   ],
   "source": [
    "# Making predictions on testing data\n",
    "X_test = []\n",
    "\n",
    "for x in range(pred_days, len(model_inputs)):\n",
    "    X_test.append(model_inputs[x-pred_days:x, 0])\n",
    "    \n",
    "X_test = np.array(X_test)\n",
    "X_test = np.reshape(X_test, (X_test.shape[0], X_test.shape[1], 1))\n",
    "X_test"
   ]
  },
  {
   "cell_type": "code",
   "execution_count": 57,
   "id": "72f24a9b",
   "metadata": {},
   "outputs": [
    {
     "data": {
      "text/plain": [
       "array([[0.82418084],\n",
       "       [0.8262936 ],\n",
       "       [0.8276988 ],\n",
       "       [0.8283589 ],\n",
       "       [0.82754064],\n",
       "       [0.8258374 ],\n",
       "       [0.8235669 ],\n",
       "       [0.82078457],\n",
       "       [0.8181256 ],\n",
       "       [0.81579244],\n",
       "       [0.8134419 ],\n",
       "       [0.8114004 ],\n",
       "       [0.80883145],\n",
       "       [0.80571795],\n",
       "       [0.80197847],\n",
       "       [0.796893  ],\n",
       "       [0.79094553],\n",
       "       [0.7840024 ],\n",
       "       [0.7760351 ],\n",
       "       [0.7674148 ],\n",
       "       [0.75907815],\n",
       "       [0.7523248 ],\n",
       "       [0.747988  ],\n",
       "       [0.74643373],\n",
       "       [0.7417543 ],\n",
       "       [0.73244596],\n",
       "       [0.7178837 ],\n",
       "       [0.698694  ],\n",
       "       [0.67704546],\n",
       "       [0.65447855],\n",
       "       [0.6318784 ],\n",
       "       [0.6101067 ],\n",
       "       [0.59013325],\n",
       "       [0.5723108 ],\n",
       "       [0.5563753 ],\n",
       "       [0.54221207],\n",
       "       [0.52956855],\n",
       "       [0.51817423],\n",
       "       [0.5085236 ],\n",
       "       [0.50095904],\n",
       "       [0.49554905],\n",
       "       [0.4916866 ],\n",
       "       [0.4892385 ],\n",
       "       [0.48766166],\n",
       "       [0.48644504],\n",
       "       [0.4845714 ],\n",
       "       [0.4818929 ],\n",
       "       [0.4789904 ],\n",
       "       [0.47603372],\n",
       "       [0.47275037],\n",
       "       [0.46909216],\n",
       "       [0.465487  ],\n",
       "       [0.4628855 ],\n",
       "       [0.46189323],\n",
       "       [0.463112  ]], dtype=float32)"
      ]
     },
     "execution_count": 57,
     "metadata": {},
     "output_type": "execute_result"
    }
   ],
   "source": [
    "predicted_prices = model.predict(X_test)\n",
    "predicted_prices"
   ]
  },
  {
   "cell_type": "code",
   "execution_count": 58,
   "id": "deeece10",
   "metadata": {},
   "outputs": [
    {
     "data": {
      "text/plain": [
       "array([[318.1027 ],\n",
       "       [318.87268],\n",
       "       [319.38483],\n",
       "       [319.6254 ],\n",
       "       [319.32718],\n",
       "       [318.70642],\n",
       "       [317.87897],\n",
       "       [316.86493],\n",
       "       [315.89587],\n",
       "       [315.04556],\n",
       "       [314.18887],\n",
       "       [313.4449 ],\n",
       "       [312.5086 ],\n",
       "       [311.3739 ],\n",
       "       [310.01105],\n",
       "       [308.15765],\n",
       "       [305.99008],\n",
       "       [303.4597 ],\n",
       "       [300.55597],\n",
       "       [297.41434],\n",
       "       [294.37604],\n",
       "       [291.91476],\n",
       "       [290.33423],\n",
       "       [289.76776],\n",
       "       [288.06235],\n",
       "       [284.66992],\n",
       "       [279.3627 ],\n",
       "       [272.36902],\n",
       "       [264.47922],\n",
       "       [256.2547 ],\n",
       "       [248.01807],\n",
       "       [240.08339],\n",
       "       [232.80406],\n",
       "       [226.30867],\n",
       "       [220.50099],\n",
       "       [215.33919],\n",
       "       [210.73126],\n",
       "       [206.5786 ],\n",
       "       [203.06142],\n",
       "       [200.30452],\n",
       "       [198.33284],\n",
       "       [196.92517],\n",
       "       [196.03297],\n",
       "       [195.4583 ],\n",
       "       [195.01488],\n",
       "       [194.33205],\n",
       "       [193.35587],\n",
       "       [192.29803],\n",
       "       [191.22047],\n",
       "       [190.02386],\n",
       "       [188.69063],\n",
       "       [187.37674],\n",
       "       [186.42862],\n",
       "       [186.06697],\n",
       "       [186.51117]], dtype=float32)"
      ]
     },
     "execution_count": 58,
     "metadata": {},
     "output_type": "execute_result"
    }
   ],
   "source": [
    "predicted_prices = scaler.inverse_transform(predicted_prices)\n",
    "predicted_prices"
   ]
  },
  {
   "cell_type": "markdown",
   "id": "111054cd",
   "metadata": {},
   "source": [
    "# Plotting of predictions"
   ]
  },
  {
   "cell_type": "code",
   "execution_count": 62,
   "id": "dad5e0f3",
   "metadata": {},
   "outputs": [
    {
     "data": {
      "image/png": "[encoded data removed]",
      "text/plain": [
       "<Figure size 432x288 with 1 Axes>"
      ]
     },
     "metadata": {
      "needs_background": "light"
     },
     "output_type": "display_data"
    }
   ],
   "source": [
    "plt.plot(actual_prices, color=\"black\", label=f\"Actual {company} Stock Prices\")\n",
    "plt.plot(predicted_prices, color=\"green\", label=f\"Predicted {company} Stock Prices\")\n",
    "plt.title(f\"{company} stock price\")\n",
    "plt.xlabel('Time')\n",
    "plt.ylabel('Share Price')\n",
    "plt.legend()\n",
    "# plt.show()\n",
    "plt.savefig('fb_predicted_vs_actual.jpg')"
   ]
  },
  {
   "cell_type": "code",
   "execution_count": null,
   "id": "69b57953",
   "metadata": {},
   "outputs": [],
   "source": []
  },
  {
   "cell_type": "code",
   "execution_count": null,
   "id": "77fb2009",
   "metadata": {},
   "outputs": [],
   "source": []
  }
 ],
 "metadata": {
  "kernelspec": {
   "display_name": "Python 3",
   "language": "python",
   "name": "python3"
  },
  "language_info": {
   "codemirror_mode": {
    "name": "ipython",
    "version": 3
   },
   "file_extension": ".py",
   "mimetype": "text/x-python",
   "name": "python",
   "nbconvert_exporter": "python",
   "pygments_lexer": "ipython3",
   "version": "3.8.8"
  }
 },
 "nbformat": 4,
 "nbformat_minor": 5
}
